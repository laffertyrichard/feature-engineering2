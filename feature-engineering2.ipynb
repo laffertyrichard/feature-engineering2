{
 "cells": [
  {
   "cell_type": "code",
   "execution_count": 1,
   "metadata": {},
   "outputs": [],
   "source": [
    "import matplotlib.pyplot as plt\n",
    "import seaborn as sns\n",
    "import numpy as np\n",
    "import pandas as pd\n",
    "import seaborn as sns\n",
    "import scipy.stats as stats\n",
    "from scipy.stats.mstats import winsorize\n",
    "from sqlalchemy import create_engine\n",
    "import warnings\n",
    "\n",
    "from scipy.stats import jarque_bera\n",
    "from scipy.stats import normaltest\n",
    "from scipy.stats import boxcox\n",
    "from sklearn.preprocessing import normalize\n",
    "from sklearn.preprocessing import scale\n",
    "\n",
    "from sklearn.decomposition import PCA\n",
    "from sklearn.preprocessing import StandardScaler\n",
    "from sklearn.impute import SimpleImputer\n",
    "\n",
    "warnings.filterwarnings('ignore')\n",
    "sns.set(style=\"whitegrid\")"
   ]
  },
  {
   "cell_type": "code",
   "execution_count": 2,
   "metadata": {},
   "outputs": [],
   "source": [
    "postgres_user = 'dsbc_student'\n",
    "postgres_pw = '7*.8G9QH21'\n",
    "postgres_host = '142.93.121.174'\n",
    "postgres_port = '5432'\n",
    "postgres_db = 'useducation'\n",
    "\n",
    "engine = create_engine('postgresql://{}:{}@{}:{}/{}'.format(\n",
    "    postgres_user, postgres_pw, postgres_host, postgres_port, postgres_db))\n",
    "                       \n",
    "education = pd.read_sql_query('select * from useducation',con=engine)\n",
    "\n",
    "engine.dispose()"
   ]
  },
  {
   "cell_type": "code",
   "execution_count": 8,
   "metadata": {},
   "outputs": [],
   "source": [
    "fill_list = ['ENROLL',\n",
    "             'TOTAL_REVENUE',\n",
    "             'FEDERAL_REVENUE',\n",
    "             'STATE_REVENUE',\n",
    "             'LOCAL_REVENUE',\n",
    "             'TOTAL_EXPENDITURE',\n",
    "             'INSTRUCTION_EXPENDITURE',\n",
    "             'SUPPORT_SERVICES_EXPENDITURE',\n",
    "             'OTHER_EXPENDITURE',\n",
    "             'CAPITAL_OUTLAY_EXPENDITURE',\n",
    "             'GRADES_PK_G',\n",
    "             'GRADES_KG_G',\n",
    "             'GRADES_4_G',\n",
    "             'GRADES_8_G',\n",
    "             'GRADES_12_G',\n",
    "             'GRADES_1_8_G',\n",
    "             'GRADES_9_12_G',\n",
    "             'GRADES_ALL_G',\n",
    "             'AVG_MATH_4_SCORE',\n",
    "             'AVG_MATH_8_SCORE',\n",
    "             'AVG_READING_4_SCORE',\n",
    "             'AVG_READING_8_SCORE']\n",
    "\n",
    "education2 = education.copy()\n",
    "\n",
    "states = education2[\"STATE\"].unique()\n",
    "\n",
    "for state in states:\n",
    "    education2.loc[education2[\"STATE\"] == state, fill_list] = education2.loc[education2[\"STATE\"] == state, fill_list].interpolate()\n",
    "    \n",
    "education3 = education2.copy()\n",
    "\n",
    "for col in fill_list:\n",
    "    education3.loc[:, col] = education2.loc[:, col].interpolate()\n",
    "\n",
    "education3.dropna(inplace=True)"
   ]
  },
  {
   "cell_type": "code",
   "execution_count": 9,
   "metadata": {},
   "outputs": [
    {
     "data": {
      "text/plain": [
       "PRIMARY_KEY                     0\n",
       "STATE                           0\n",
       "YEAR                            0\n",
       "ENROLL                          0\n",
       "TOTAL_REVENUE                   0\n",
       "FEDERAL_REVENUE                 0\n",
       "STATE_REVENUE                   0\n",
       "LOCAL_REVENUE                   0\n",
       "TOTAL_EXPENDITURE               0\n",
       "INSTRUCTION_EXPENDITURE         0\n",
       "SUPPORT_SERVICES_EXPENDITURE    0\n",
       "OTHER_EXPENDITURE               0\n",
       "CAPITAL_OUTLAY_EXPENDITURE      0\n",
       "GRADES_PK_G                     0\n",
       "GRADES_KG_G                     0\n",
       "GRADES_4_G                      0\n",
       "GRADES_8_G                      0\n",
       "GRADES_12_G                     0\n",
       "GRADES_1_8_G                    0\n",
       "GRADES_9_12_G                   0\n",
       "GRADES_ALL_G                    0\n",
       "AVG_MATH_4_SCORE                0\n",
       "AVG_MATH_8_SCORE                0\n",
       "AVG_READING_4_SCORE             0\n",
       "AVG_READING_8_SCORE             0\n",
       "dtype: int64"
      ]
     },
     "execution_count": 9,
     "metadata": {},
     "output_type": "execute_result"
    }
   ],
   "source": [
    "education3.isnull().sum()"
   ]
  },
  {
   "cell_type": "markdown",
   "metadata": {},
   "source": [
    "# Create a new score variable from the weighted averages of all score variables in the datasets. Notice that the number of students in the 4th grade isn't the same as the number of students in the 8th grade. So, you should appropriately weigh the scores!."
   ]
  },
  {
   "cell_type": "code",
   "execution_count": 10,
   "metadata": {},
   "outputs": [],
   "source": [
    "education3['WEIGHTED_SCORES'] = (education3['GRADES_4_G'] * ((education3['AVG_MATH_4_SCORE'] + education3['AVG_READING_4_SCORE']) * 0.5)) + (\n",
    "    education3['GRADES_8_G'] * ((education3['AVG_MATH_8_SCORE'] + education3['AVG_READING_8_SCORE']) * 0.5)) / (education3['GRADES_4_G'] + education3['GRADES_8_G'])"
   ]
  },
  {
   "cell_type": "markdown",
   "metadata": {},
   "source": [
    "# What are the correlations between this newly created score variable and the expenditure types? Which 1 of the expenditure types is more correlated than the others?"
   ]
  },
  {
   "cell_type": "code",
   "execution_count": 11,
   "metadata": {},
   "outputs": [
    {
     "data": {
      "text/html": [
       "<div>\n",
       "<style scoped>\n",
       "    .dataframe tbody tr th:only-of-type {\n",
       "        vertical-align: middle;\n",
       "    }\n",
       "\n",
       "    .dataframe tbody tr th {\n",
       "        vertical-align: top;\n",
       "    }\n",
       "\n",
       "    .dataframe thead th {\n",
       "        text-align: right;\n",
       "    }\n",
       "</style>\n",
       "<table border=\"1\" class=\"dataframe\">\n",
       "  <thead>\n",
       "    <tr style=\"text-align: right;\">\n",
       "      <th></th>\n",
       "      <th>WEIGHTED_SCORES</th>\n",
       "      <th>TOTAL_EXPENDITURE</th>\n",
       "      <th>INSTRUCTION_EXPENDITURE</th>\n",
       "      <th>SUPPORT_SERVICES_EXPENDITURE</th>\n",
       "      <th>OTHER_EXPENDITURE</th>\n",
       "      <th>CAPITAL_OUTLAY_EXPENDITURE</th>\n",
       "    </tr>\n",
       "  </thead>\n",
       "  <tbody>\n",
       "    <tr>\n",
       "      <th>WEIGHTED_SCORES</th>\n",
       "      <td>1.000000</td>\n",
       "      <td>0.746952</td>\n",
       "      <td>0.708935</td>\n",
       "      <td>0.746554</td>\n",
       "      <td>0.809500</td>\n",
       "      <td>0.846466</td>\n",
       "    </tr>\n",
       "    <tr>\n",
       "      <th>TOTAL_EXPENDITURE</th>\n",
       "      <td>0.746952</td>\n",
       "      <td>1.000000</td>\n",
       "      <td>0.992257</td>\n",
       "      <td>0.993688</td>\n",
       "      <td>0.945683</td>\n",
       "      <td>0.911341</td>\n",
       "    </tr>\n",
       "    <tr>\n",
       "      <th>INSTRUCTION_EXPENDITURE</th>\n",
       "      <td>0.708935</td>\n",
       "      <td>0.992257</td>\n",
       "      <td>1.000000</td>\n",
       "      <td>0.978819</td>\n",
       "      <td>0.911527</td>\n",
       "      <td>0.875006</td>\n",
       "    </tr>\n",
       "    <tr>\n",
       "      <th>SUPPORT_SERVICES_EXPENDITURE</th>\n",
       "      <td>0.746554</td>\n",
       "      <td>0.993688</td>\n",
       "      <td>0.978819</td>\n",
       "      <td>1.000000</td>\n",
       "      <td>0.952445</td>\n",
       "      <td>0.897020</td>\n",
       "    </tr>\n",
       "    <tr>\n",
       "      <th>OTHER_EXPENDITURE</th>\n",
       "      <td>0.809500</td>\n",
       "      <td>0.945683</td>\n",
       "      <td>0.911527</td>\n",
       "      <td>0.952445</td>\n",
       "      <td>1.000000</td>\n",
       "      <td>0.909893</td>\n",
       "    </tr>\n",
       "    <tr>\n",
       "      <th>CAPITAL_OUTLAY_EXPENDITURE</th>\n",
       "      <td>0.846466</td>\n",
       "      <td>0.911341</td>\n",
       "      <td>0.875006</td>\n",
       "      <td>0.897020</td>\n",
       "      <td>0.909893</td>\n",
       "      <td>1.000000</td>\n",
       "    </tr>\n",
       "  </tbody>\n",
       "</table>\n",
       "</div>"
      ],
      "text/plain": [
       "                              WEIGHTED_SCORES  TOTAL_EXPENDITURE  \\\n",
       "WEIGHTED_SCORES                      1.000000           0.746952   \n",
       "TOTAL_EXPENDITURE                    0.746952           1.000000   \n",
       "INSTRUCTION_EXPENDITURE              0.708935           0.992257   \n",
       "SUPPORT_SERVICES_EXPENDITURE         0.746554           0.993688   \n",
       "OTHER_EXPENDITURE                    0.809500           0.945683   \n",
       "CAPITAL_OUTLAY_EXPENDITURE           0.846466           0.911341   \n",
       "\n",
       "                              INSTRUCTION_EXPENDITURE  \\\n",
       "WEIGHTED_SCORES                              0.708935   \n",
       "TOTAL_EXPENDITURE                            0.992257   \n",
       "INSTRUCTION_EXPENDITURE                      1.000000   \n",
       "SUPPORT_SERVICES_EXPENDITURE                 0.978819   \n",
       "OTHER_EXPENDITURE                            0.911527   \n",
       "CAPITAL_OUTLAY_EXPENDITURE                   0.875006   \n",
       "\n",
       "                              SUPPORT_SERVICES_EXPENDITURE  OTHER_EXPENDITURE  \\\n",
       "WEIGHTED_SCORES                                   0.746554           0.809500   \n",
       "TOTAL_EXPENDITURE                                 0.993688           0.945683   \n",
       "INSTRUCTION_EXPENDITURE                           0.978819           0.911527   \n",
       "SUPPORT_SERVICES_EXPENDITURE                      1.000000           0.952445   \n",
       "OTHER_EXPENDITURE                                 0.952445           1.000000   \n",
       "CAPITAL_OUTLAY_EXPENDITURE                        0.897020           0.909893   \n",
       "\n",
       "                              CAPITAL_OUTLAY_EXPENDITURE  \n",
       "WEIGHTED_SCORES                                 0.846466  \n",
       "TOTAL_EXPENDITURE                               0.911341  \n",
       "INSTRUCTION_EXPENDITURE                         0.875006  \n",
       "SUPPORT_SERVICES_EXPENDITURE                    0.897020  \n",
       "OTHER_EXPENDITURE                               0.909893  \n",
       "CAPITAL_OUTLAY_EXPENDITURE                      1.000000  "
      ]
     },
     "execution_count": 11,
     "metadata": {},
     "output_type": "execute_result"
    }
   ],
   "source": [
    "education3[['WEIGHTED_SCORES',\n",
    "            'TOTAL_EXPENDITURE',\n",
    "            'INSTRUCTION_EXPENDITURE',\n",
    "            'SUPPORT_SERVICES_EXPENDITURE',\n",
    "            'OTHER_EXPENDITURE',\n",
    "            'CAPITAL_OUTLAY_EXPENDITURE']].corr()\n"
   ]
  },
  {
   "cell_type": "markdown",
   "metadata": {},
   "source": [
    "# Now, apply PCA to the 4 expenditure types. How much of the total variance is explained by the 1st component?"
   ]
  },
  {
   "cell_type": "code",
   "execution_count": 12,
   "metadata": {},
   "outputs": [
    {
     "name": "stdout",
     "output_type": "stream",
     "text": [
      "The percentage of total variance in the dataset explained by each component from Sklearn PCA.\n",
      " [0.94077648]\n"
     ]
    }
   ],
   "source": [
    "X = education3[[\"INSTRUCTION_EXPENDITURE\", \"SUPPORT_SERVICES_EXPENDITURE\",\n",
    "                  \"OTHER_EXPENDITURE\", \"CAPITAL_OUTLAY_EXPENDITURE\"]]\n",
    "\n",
    "X = StandardScaler().fit_transform(X)\n",
    "\n",
    "\n",
    "sklearn_pca = PCA(n_components=1)\n",
    "education3[\"pca_1\"] = sklearn_pca.fit_transform(X)\n",
    "\n",
    "print(\n",
    "    'The percentage of total variance in the dataset explained by each',\n",
    "    'component from Sklearn PCA.\\n',\n",
    "    sklearn_pca.explained_variance_ratio_\n",
    ")\n",
    "#I'm not understanding what I need to do here"
   ]
  },
  {
   "cell_type": "markdown",
   "metadata": {},
   "source": [
    "# If you were to choose the best variables for your model, would you prefer using the 1st principal component instead of the expenditure variables? Why?"
   ]
  },
  {
   "cell_type": "markdown",
   "metadata": {},
   "source": [
    "Because the first principal component explains around 94% of the variance, I would not use it instead of the expenditure variables."
   ]
  },
  {
   "cell_type": "code",
   "execution_count": null,
   "metadata": {},
   "outputs": [],
   "source": []
  }
 ],
 "metadata": {
  "kernelspec": {
   "display_name": "Python 3",
   "language": "python",
   "name": "python3"
  },
  "language_info": {
   "codemirror_mode": {
    "name": "ipython",
    "version": 3
   },
   "file_extension": ".py",
   "mimetype": "text/x-python",
   "name": "python",
   "nbconvert_exporter": "python",
   "pygments_lexer": "ipython3",
   "version": "3.7.3"
  }
 },
 "nbformat": 4,
 "nbformat_minor": 2
}
